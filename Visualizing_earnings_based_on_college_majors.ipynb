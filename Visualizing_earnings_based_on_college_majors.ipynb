{
 "cells": [
  {
   "cell_type": "markdown",
   "metadata": {
    "collapsed": true
   },
   "source": [
    "Visualizing Earnings Based on College Major\n",
    "\n",
    "In this project we're going to use pandas plotting along with visualizations to explore the dataset of job outcomes of students who graduated from 2010 to 2012. Each row in the dataset represents a different college major and has information including median salaries, gender diversity, employment rates and so on along the columns. We'll use scter plots to see if more popular majors make more money, histograms to see how many majors are predominantly male and female, and bar plots to determine which category of majors have the most students."
   ]
  },
  {
   "cell_type": "code",
   "execution_count": 4,
   "metadata": {
    "collapsed": false
   },
   "outputs": [],
   "source": [
    "# import pandas and matplotlib libraries, read csv into a dataframe\n",
    "import pandas as pd\n",
    "import matplotlib.pyplot as plt \n",
    "%matplotlib inline\n",
    "recent_grads = pd.read_csv('recent-grads.csv')"
   ]
  },
  {
   "cell_type": "code",
   "execution_count": null,
   "metadata": {
    "collapsed": true
   },
   "outputs": [],
   "source": []
  }
 ],
 "metadata": {
  "kernelspec": {
   "display_name": "Python 3",
   "language": "python",
   "name": "python3"
  },
  "language_info": {
   "codemirror_mode": {
    "name": "ipython",
    "version": 3
   },
   "file_extension": ".py",
   "mimetype": "text/x-python",
   "name": "python",
   "nbconvert_exporter": "python",
   "pygments_lexer": "ipython3",
   "version": "3.4.3"
  }
 },
 "nbformat": 4,
 "nbformat_minor": 0
}
